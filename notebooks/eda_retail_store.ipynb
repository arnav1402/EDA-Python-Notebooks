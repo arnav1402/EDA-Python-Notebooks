{
 "cells": [
  {
   "cell_type": "code",
   "execution_count": 1,
   "id": "f83d9fdd",
   "metadata": {},
   "outputs": [],
   "source": [
    "import numpy as np\n",
    "import pandas as pd\n",
    "import matplotlib.pyplot as plt\n",
    "import seaborn as sns"
   ]
  },
  {
   "cell_type": "code",
   "execution_count": 5,
   "id": "875d261f",
   "metadata": {},
   "outputs": [
    {
     "data": {
      "text/html": [
       "<div>\n",
       "<style scoped>\n",
       "    .dataframe tbody tr th:only-of-type {\n",
       "        vertical-align: middle;\n",
       "    }\n",
       "\n",
       "    .dataframe tbody tr th {\n",
       "        vertical-align: top;\n",
       "    }\n",
       "\n",
       "    .dataframe thead th {\n",
       "        text-align: right;\n",
       "    }\n",
       "</style>\n",
       "<table border=\"1\" class=\"dataframe\">\n",
       "  <thead>\n",
       "    <tr style=\"text-align: right;\">\n",
       "      <th></th>\n",
       "      <th>InvoiceNo</th>\n",
       "      <th>StockCode</th>\n",
       "      <th>Description</th>\n",
       "      <th>Quantity</th>\n",
       "      <th>InvoiceDate</th>\n",
       "      <th>UnitPrice</th>\n",
       "      <th>CustomerID</th>\n",
       "      <th>Country</th>\n",
       "    </tr>\n",
       "  </thead>\n",
       "  <tbody>\n",
       "    <tr>\n",
       "      <th>0</th>\n",
       "      <td>536365</td>\n",
       "      <td>85123A</td>\n",
       "      <td>WHITE HANGING HEART T-LIGHT HOLDER</td>\n",
       "      <td>6</td>\n",
       "      <td>2010-12-01 08:26:00</td>\n",
       "      <td>2.55</td>\n",
       "      <td>17850</td>\n",
       "      <td>United Kingdom</td>\n",
       "    </tr>\n",
       "    <tr>\n",
       "      <th>1</th>\n",
       "      <td>536365</td>\n",
       "      <td>71053</td>\n",
       "      <td>WHITE METAL LANTERN</td>\n",
       "      <td>6</td>\n",
       "      <td>2010-12-01 08:26:00</td>\n",
       "      <td>3.39</td>\n",
       "      <td>17850</td>\n",
       "      <td>United Kingdom</td>\n",
       "    </tr>\n",
       "    <tr>\n",
       "      <th>2</th>\n",
       "      <td>536365</td>\n",
       "      <td>84406B</td>\n",
       "      <td>CREAM CUPID HEARTS COAT HANGER</td>\n",
       "      <td>8</td>\n",
       "      <td>2010-12-01 08:26:00</td>\n",
       "      <td>2.75</td>\n",
       "      <td>17850</td>\n",
       "      <td>United Kingdom</td>\n",
       "    </tr>\n",
       "    <tr>\n",
       "      <th>3</th>\n",
       "      <td>536365</td>\n",
       "      <td>84029G</td>\n",
       "      <td>KNITTED UNION FLAG HOT WATER BOTTLE</td>\n",
       "      <td>6</td>\n",
       "      <td>2010-12-01 08:26:00</td>\n",
       "      <td>3.39</td>\n",
       "      <td>17850</td>\n",
       "      <td>United Kingdom</td>\n",
       "    </tr>\n",
       "    <tr>\n",
       "      <th>4</th>\n",
       "      <td>536365</td>\n",
       "      <td>84029E</td>\n",
       "      <td>RED WOOLLY HOTTIE WHITE HEART.</td>\n",
       "      <td>6</td>\n",
       "      <td>2010-12-01 08:26:00</td>\n",
       "      <td>3.39</td>\n",
       "      <td>17850</td>\n",
       "      <td>United Kingdom</td>\n",
       "    </tr>\n",
       "  </tbody>\n",
       "</table>\n",
       "</div>"
      ],
      "text/plain": [
       "  InvoiceNo StockCode                          Description  Quantity  \\\n",
       "0    536365    85123A   WHITE HANGING HEART T-LIGHT HOLDER         6   \n",
       "1    536365     71053                  WHITE METAL LANTERN         6   \n",
       "2    536365    84406B       CREAM CUPID HEARTS COAT HANGER         8   \n",
       "3    536365    84029G  KNITTED UNION FLAG HOT WATER BOTTLE         6   \n",
       "4    536365    84029E       RED WOOLLY HOTTIE WHITE HEART.         6   \n",
       "\n",
       "           InvoiceDate  UnitPrice  CustomerID         Country  \n",
       "0  2010-12-01 08:26:00       2.55       17850  United Kingdom  \n",
       "1  2010-12-01 08:26:00       3.39       17850  United Kingdom  \n",
       "2  2010-12-01 08:26:00       2.75       17850  United Kingdom  \n",
       "3  2010-12-01 08:26:00       3.39       17850  United Kingdom  \n",
       "4  2010-12-01 08:26:00       3.39       17850  United Kingdom  "
      ]
     },
     "execution_count": 5,
     "metadata": {},
     "output_type": "execute_result"
    }
   ],
   "source": [
    "df = pd.read_csv('./public/online_retail.csv')\n",
    "df.head()"
   ]
  },
  {
   "cell_type": "markdown",
   "id": "b8af5be6",
   "metadata": {},
   "source": [
    "DATA CLEANING AND PROCESSING"
   ]
  },
  {
   "cell_type": "code",
   "execution_count": 7,
   "id": "85b4fa3e",
   "metadata": {},
   "outputs": [
    {
     "data": {
      "text/plain": [
       "(541909, 8)"
      ]
     },
     "execution_count": 7,
     "metadata": {},
     "output_type": "execute_result"
    }
   ],
   "source": [
    "df.shape"
   ]
  },
  {
   "cell_type": "code",
   "execution_count": 10,
   "id": "f87709f5",
   "metadata": {},
   "outputs": [
    {
     "data": {
      "text/html": [
       "<div>\n",
       "<style scoped>\n",
       "    .dataframe tbody tr th:only-of-type {\n",
       "        vertical-align: middle;\n",
       "    }\n",
       "\n",
       "    .dataframe tbody tr th {\n",
       "        vertical-align: top;\n",
       "    }\n",
       "\n",
       "    .dataframe thead th {\n",
       "        text-align: right;\n",
       "    }\n",
       "</style>\n",
       "<table border=\"1\" class=\"dataframe\">\n",
       "  <thead>\n",
       "    <tr style=\"text-align: right;\">\n",
       "      <th></th>\n",
       "      <th>count</th>\n",
       "      <th>mean</th>\n",
       "      <th>std</th>\n",
       "      <th>min</th>\n",
       "      <th>25%</th>\n",
       "      <th>50%</th>\n",
       "      <th>75%</th>\n",
       "      <th>max</th>\n",
       "    </tr>\n",
       "  </thead>\n",
       "  <tbody>\n",
       "    <tr>\n",
       "      <th>Quantity</th>\n",
       "      <td>541909.0</td>\n",
       "      <td>9.552250</td>\n",
       "      <td>218.081158</td>\n",
       "      <td>-80995.00</td>\n",
       "      <td>1.00</td>\n",
       "      <td>3.00</td>\n",
       "      <td>10.00</td>\n",
       "      <td>80995.0</td>\n",
       "    </tr>\n",
       "    <tr>\n",
       "      <th>UnitPrice</th>\n",
       "      <td>541909.0</td>\n",
       "      <td>4.611114</td>\n",
       "      <td>96.759853</td>\n",
       "      <td>-11062.06</td>\n",
       "      <td>1.25</td>\n",
       "      <td>2.08</td>\n",
       "      <td>4.13</td>\n",
       "      <td>38970.0</td>\n",
       "    </tr>\n",
       "    <tr>\n",
       "      <th>CustomerID</th>\n",
       "      <td>541909.0</td>\n",
       "      <td>15287.518434</td>\n",
       "      <td>1484.746041</td>\n",
       "      <td>12346.00</td>\n",
       "      <td>14367.00</td>\n",
       "      <td>15287.00</td>\n",
       "      <td>16255.00</td>\n",
       "      <td>18287.0</td>\n",
       "    </tr>\n",
       "  </tbody>\n",
       "</table>\n",
       "</div>"
      ],
      "text/plain": [
       "               count          mean          std       min       25%       50%  \\\n",
       "Quantity    541909.0      9.552250   218.081158 -80995.00      1.00      3.00   \n",
       "UnitPrice   541909.0      4.611114    96.759853 -11062.06      1.25      2.08   \n",
       "CustomerID  541909.0  15287.518434  1484.746041  12346.00  14367.00  15287.00   \n",
       "\n",
       "                 75%      max  \n",
       "Quantity       10.00  80995.0  \n",
       "UnitPrice       4.13  38970.0  \n",
       "CustomerID  16255.00  18287.0  "
      ]
     },
     "execution_count": 10,
     "metadata": {},
     "output_type": "execute_result"
    }
   ],
   "source": [
    "df.describe().T"
   ]
  },
  {
   "cell_type": "code",
   "execution_count": 13,
   "id": "6ea22e2c",
   "metadata": {},
   "outputs": [
    {
     "data": {
      "text/plain": [
       "Index(['InvoiceNo', 'StockCode', 'Description', 'Quantity', 'InvoiceDate',\n",
       "       'UnitPrice', 'CustomerID', 'Country'],\n",
       "      dtype='object')"
      ]
     },
     "execution_count": 13,
     "metadata": {},
     "output_type": "execute_result"
    }
   ],
   "source": [
    "df.columns"
   ]
  },
  {
   "cell_type": "code",
   "execution_count": 16,
   "id": "dae2adc8",
   "metadata": {},
   "outputs": [],
   "source": [
    "df.isna().sum()\n",
    "\n",
    "df.dropna(inplace=True)"
   ]
  },
  {
   "cell_type": "code",
   "execution_count": 19,
   "id": "8bb09788",
   "metadata": {},
   "outputs": [
    {
     "data": {
      "text/plain": [
       "InvoiceNo      0\n",
       "StockCode      0\n",
       "Description    0\n",
       "Quantity       0\n",
       "InvoiceDate    0\n",
       "UnitPrice      0\n",
       "CustomerID     0\n",
       "Country        0\n",
       "dtype: int64"
      ]
     },
     "execution_count": 19,
     "metadata": {},
     "output_type": "execute_result"
    }
   ],
   "source": [
    "df.isnull().sum()"
   ]
  },
  {
   "cell_type": "code",
   "execution_count": 21,
   "id": "f71cc75a",
   "metadata": {},
   "outputs": [
    {
     "name": "stdout",
     "output_type": "stream",
     "text": [
      "       InvoiceNo StockCode                          Description  Quantity  \\\n",
      "0         536365    85123A   WHITE HANGING HEART T-LIGHT HOLDER         6   \n",
      "1         536365     71053                  WHITE METAL LANTERN         6   \n",
      "2         536365    84406B       CREAM CUPID HEARTS COAT HANGER         8   \n",
      "3         536365    84029G  KNITTED UNION FLAG HOT WATER BOTTLE         6   \n",
      "4         536365    84029E       RED WOOLLY HOTTIE WHITE HEART.         6   \n",
      "...          ...       ...                                  ...       ...   \n",
      "541904    581587     22613          PACK OF 20 SPACEBOY NAPKINS        12   \n",
      "541905    581587     22899         CHILDREN'S APRON DOLLY GIRL          6   \n",
      "541906    581587     23254        CHILDRENS CUTLERY DOLLY GIRL          4   \n",
      "541907    581587     23255      CHILDRENS CUTLERY CIRCUS PARADE         4   \n",
      "541908    581587     22138        BAKING SET 9 PIECE RETROSPOT          3   \n",
      "\n",
      "                InvoiceDate  UnitPrice  CustomerID         Country  \n",
      "0       2010-12-01 08:26:00       2.55       17850  United Kingdom  \n",
      "1       2010-12-01 08:26:00       3.39       17850  United Kingdom  \n",
      "2       2010-12-01 08:26:00       2.75       17850  United Kingdom  \n",
      "3       2010-12-01 08:26:00       3.39       17850  United Kingdom  \n",
      "4       2010-12-01 08:26:00       3.39       17850  United Kingdom  \n",
      "...                     ...        ...         ...             ...  \n",
      "541904  2011-12-09 12:50:00       0.85       12680          France  \n",
      "541905  2011-12-09 12:50:00       2.10       12680          France  \n",
      "541906  2011-12-09 12:50:00       4.15       12680          France  \n",
      "541907  2011-12-09 12:50:00       4.15       12680          France  \n",
      "541908  2011-12-09 12:50:00       4.95       12680          France  \n",
      "\n",
      "[540370 rows x 8 columns]\n"
     ]
    }
   ],
   "source": [
    "\"\"\"there are special characters inclue in desciption.we have to remove that rows.\n",
    "first we checked is there any special character included\"\"\"\n",
    "\n",
    "print(df.drop(df[df.Description.str.contains(r'[@#?$%*]')].index))"
   ]
  },
  {
   "cell_type": "code",
   "execution_count": 23,
   "id": "16d95ef4",
   "metadata": {},
   "outputs": [],
   "source": [
    "df = df.drop(df.index[df.Quantity < 0])"
   ]
  },
  {
   "cell_type": "code",
   "execution_count": 24,
   "id": "76e7afff",
   "metadata": {},
   "outputs": [],
   "source": [
    "df = df.drop(df.index[df['UnitPrice'] < 0])"
   ]
  },
  {
   "cell_type": "code",
   "execution_count": 25,
   "id": "3d7f3f21",
   "metadata": {},
   "outputs": [
    {
     "data": {
      "text/plain": [
       "Quantity      0\n",
       "UnitPrice     0\n",
       "CustomerID    0\n",
       "dtype: int64"
      ]
     },
     "execution_count": 25,
     "metadata": {},
     "output_type": "execute_result"
    }
   ],
   "source": [
    "df.select_dtypes(include='number').apply(lambda x : (x<0).sum())"
   ]
  },
  {
   "cell_type": "code",
   "execution_count": 29,
   "id": "841ddb45",
   "metadata": {},
   "outputs": [
    {
     "data": {
      "text/plain": [
       "(530691, 8)"
      ]
     },
     "execution_count": 29,
     "metadata": {},
     "output_type": "execute_result"
    }
   ],
   "source": [
    "df.shape[0:2]"
   ]
  },
  {
   "cell_type": "markdown",
   "id": "b78d8f45",
   "metadata": {},
   "source": [
    "Data exploration and visualization"
   ]
  },
  {
   "cell_type": "code",
   "execution_count": 31,
   "id": "18de426f",
   "metadata": {},
   "outputs": [
    {
     "data": {
      "text/plain": [
       "0         15.30\n",
       "1         20.34\n",
       "2         22.00\n",
       "3         20.34\n",
       "4         20.34\n",
       "          ...  \n",
       "541904    10.20\n",
       "541905    12.60\n",
       "541906    16.60\n",
       "541907    16.60\n",
       "541908    14.85\n",
       "Name: Final_Price, Length: 530691, dtype: float64"
      ]
     },
     "execution_count": 31,
     "metadata": {},
     "output_type": "execute_result"
    }
   ],
   "source": [
    "df[\"Final_Price\"] = df[\"Quantity\"]*df[\"UnitPrice\"]\n",
    "df.Final_Price"
   ]
  },
  {
   "cell_type": "markdown",
   "id": "bbd7236d",
   "metadata": {},
   "source": [
    "Q.1 Total quantity of products bought in different countries"
   ]
  },
  {
   "cell_type": "code",
   "execution_count": 37,
   "id": "d80df0fd",
   "metadata": {},
   "outputs": [
    {
     "data": {
      "text/plain": [
       "Country\n",
       "United Kingdom          4701270\n",
       "Netherlands              200937\n",
       "EIRE                     147447\n",
       "Germany                  119263\n",
       "France                   112104\n",
       "Australia                 84209\n",
       "Sweden                    36083\n",
       "Switzerland               30630\n",
       "Spain                     27951\n",
       "Japan                     26016\n",
       "Belgium                   23237\n",
       "Norway                    19338\n",
       "Portugal                  16258\n",
       "Finland                   10704\n",
       "Channel Islands            9491\n",
       "Denmark                    8235\n",
       "Italy                      8112\n",
       "Cyprus                     6361\n",
       "Singapore                  5241\n",
       "Austria                    4881\n",
       "Hong Kong                  4773\n",
       "Israel                     4409\n",
       "Poland                     3684\n",
       "Unspecified                3300\n",
       "Canada                     2763\n",
       "Iceland                    2458\n",
       "USA                        2458\n",
       "Greece                     1557\n",
       "United Arab Emirates        982\n",
       "Malta                       970\n",
       "Czech Republic              671\n",
       "Lithuania                   652\n",
       "European Community          499\n",
       "Lebanon                     386\n",
       "Brazil                      356\n",
       "RSA                         352\n",
       "Bahrain                     314\n",
       "Saudi Arabia                 80\n",
       "Name: Quantity, dtype: int64"
      ]
     },
     "execution_count": 37,
     "metadata": {},
     "output_type": "execute_result"
    }
   ],
   "source": [
    "Quantity_acc_countries = df.groupby('Country')[\"Quantity\"].sum()\n",
    "Quantity_acc_countries = Quantity_acc_countries.sort_values(ascending=False)\n",
    "\n",
    "Quantity_acc_countries"
   ]
  },
  {
   "cell_type": "code",
   "execution_count": 40,
   "id": "18216f59",
   "metadata": {},
   "outputs": [
    {
     "data": {
      "image/png": "[encoded data removed]",
      "text/plain": [
       "<Figure size 640x480 with 1 Axes>"
      ]
     },
     "metadata": {},
     "output_type": "display_data"
    }
   ],
   "source": [
    "Quantity_acc_countries.plot(kind='bar')\n",
    "plt.xlabel('Country')\n",
    "plt.ylabel('Total quantity(mn)')\n",
    "plt.title('Quantity by country')\n",
    "plt.grid(True,alpha=0.2)\n",
    "plt.show()"
   ]
  },
  {
   "cell_type": "code",
   "execution_count": 43,
   "id": "f2377325",
   "metadata": {},
   "outputs": [
    {
     "data": {
      "text/plain": [
       "Country\n",
       "United Kingdom          9025222.084\n",
       "Netherlands              285446.340\n",
       "EIRE                     283453.960\n",
       "Germany                  228867.140\n",
       "France                   209715.110\n",
       "Australia                138521.310\n",
       "Spain                     61577.110\n",
       "Switzerland               57089.900\n",
       "Belgium                   41196.340\n",
       "Sweden                    38378.330\n",
       "Japan                     37416.370\n",
       "Norway                    36165.440\n",
       "Portugal                  33747.100\n",
       "Finland                   22546.080\n",
       "Singapore                 21279.290\n",
       "Channel Islands           20450.440\n",
       "Denmark                   18955.340\n",
       "Italy                     17483.240\n",
       "Hong Kong                 15691.800\n",
       "Cyprus                    13590.380\n",
       "Austria                   10198.680\n",
       "Israel                     8135.260\n",
       "Poland                     7334.650\n",
       "Greece                     4760.520\n",
       "Unspecified                4749.790\n",
       "Iceland                    4310.000\n",
       "Canada                     3666.380\n",
       "USA                        3580.390\n",
       "Malta                      2725.590\n",
       "United Arab Emirates       1902.280\n",
       "Lebanon                    1693.880\n",
       "Lithuania                  1661.060\n",
       "European Community         1300.250\n",
       "Brazil                     1143.600\n",
       "RSA                        1002.310\n",
       "Czech Republic              826.740\n",
       "Bahrain                     754.140\n",
       "Saudi Arabia                145.920\n",
       "Name: Final_Price, dtype: float64"
      ]
     },
     "execution_count": 43,
     "metadata": {},
     "output_type": "execute_result"
    }
   ],
   "source": [
    "final_price_acc_countries = df.groupby('Country')[\"Final_Price\"].sum()\n",
    "final_price_acc_countries = final_price_acc_countries.sort_values(ascending=False)\n",
    "\n",
    "final_price_acc_countries"
   ]
  },
  {
   "cell_type": "code",
   "execution_count": 44,
   "id": "dca15768",
   "metadata": {},
   "outputs": [
    {
     "data": {
      "image/png": "[encoded data removed]",
      "text/plain": [
       "<Figure size 640x480 with 1 Axes>"
      ]
     },
     "metadata": {},
     "output_type": "display_data"
    }
   ],
   "source": [
    "final_price_acc_countries.plot(kind='bar')\n",
    "plt.xlabel('Country')\n",
    "plt.ylabel('Total_revenue(Lakhs)')\n",
    "plt.title('total revenue by country')\n",
    "plt.grid(True,alpha=0.2)\n",
    "plt.show()"
   ]
  },
  {
   "cell_type": "code",
   "execution_count": 45,
   "id": "c5028783",
   "metadata": {},
   "outputs": [
    {
     "data": {
      "text/html": [
       "<div>\n",
       "<style scoped>\n",
       "    .dataframe tbody tr th:only-of-type {\n",
       "        vertical-align: middle;\n",
       "    }\n",
       "\n",
       "    .dataframe tbody tr th {\n",
       "        vertical-align: top;\n",
       "    }\n",
       "\n",
       "    .dataframe thead th {\n",
       "        text-align: right;\n",
       "    }\n",
       "</style>\n",
       "<table border=\"1\" class=\"dataframe\">\n",
       "  <thead>\n",
       "    <tr style=\"text-align: right;\">\n",
       "      <th></th>\n",
       "      <th>count</th>\n",
       "      <th>mean</th>\n",
       "      <th>std</th>\n",
       "      <th>min</th>\n",
       "      <th>25%</th>\n",
       "      <th>50%</th>\n",
       "      <th>75%</th>\n",
       "      <th>max</th>\n",
       "    </tr>\n",
       "  </thead>\n",
       "  <tbody>\n",
       "    <tr>\n",
       "      <th>Quantity</th>\n",
       "      <td>530691.0</td>\n",
       "      <td>11.0</td>\n",
       "      <td>157.0</td>\n",
       "      <td>1.0</td>\n",
       "      <td>1.0</td>\n",
       "      <td>3.0</td>\n",
       "      <td>10.0</td>\n",
       "      <td>80995.0</td>\n",
       "    </tr>\n",
       "    <tr>\n",
       "      <th>Final_Price</th>\n",
       "      <td>530691.0</td>\n",
       "      <td>20.0</td>\n",
       "      <td>270.0</td>\n",
       "      <td>0.0</td>\n",
       "      <td>4.0</td>\n",
       "      <td>10.0</td>\n",
       "      <td>18.0</td>\n",
       "      <td>168470.0</td>\n",
       "    </tr>\n",
       "    <tr>\n",
       "      <th>UnitPrice</th>\n",
       "      <td>530691.0</td>\n",
       "      <td>4.0</td>\n",
       "      <td>36.0</td>\n",
       "      <td>0.0</td>\n",
       "      <td>1.0</td>\n",
       "      <td>2.0</td>\n",
       "      <td>4.0</td>\n",
       "      <td>13541.0</td>\n",
       "    </tr>\n",
       "  </tbody>\n",
       "</table>\n",
       "</div>"
      ],
      "text/plain": [
       "                count  mean    std  min  25%   50%   75%       max\n",
       "Quantity     530691.0  11.0  157.0  1.0  1.0   3.0  10.0   80995.0\n",
       "Final_Price  530691.0  20.0  270.0  0.0  4.0  10.0  18.0  168470.0\n",
       "UnitPrice    530691.0   4.0   36.0  0.0  1.0   2.0   4.0   13541.0"
      ]
     },
     "execution_count": 45,
     "metadata": {},
     "output_type": "execute_result"
    }
   ],
   "source": [
    "df[['Quantity', 'Final_Price', 'UnitPrice']].describe().round().T"
   ]
  },
  {
   "cell_type": "code",
   "execution_count": 46,
   "id": "e49f3434",
   "metadata": {},
   "outputs": [
    {
     "data": {
      "image/png": "[encoded data removed]",
      "text/plain": [
       "<Figure size 640x480 with 1 Axes>"
      ]
     },
     "metadata": {},
     "output_type": "display_data"
    }
   ],
   "source": [
    "Mean_Quantity_by_country=df.groupby('Country')['Quantity'].mean().sort_values(ascending= False)\n",
    "\n",
    "Mean_Quantity_by_country.plot(kind='bar')\n",
    "plt.xlabel('Country')\n",
    "plt.ylabel('Mean Quantity')\n",
    "plt.title('Mean Quantity by country')\n",
    "plt.grid(True,alpha=0.2)\n",
    "plt.show()"
   ]
  },
  {
   "cell_type": "code",
   "execution_count": 50,
   "id": "93de2b33",
   "metadata": {},
   "outputs": [
    {
     "data": {
      "text/plain": [
       "0        2010-12-01 08:26:00\n",
       "1        2010-12-01 08:26:00\n",
       "2        2010-12-01 08:26:00\n",
       "3        2010-12-01 08:26:00\n",
       "4        2010-12-01 08:26:00\n",
       "                 ...        \n",
       "541904   2011-12-09 12:50:00\n",
       "541905   2011-12-09 12:50:00\n",
       "541906   2011-12-09 12:50:00\n",
       "541907   2011-12-09 12:50:00\n",
       "541908   2011-12-09 12:50:00\n",
       "Name: InvoiceDate, Length: 530691, dtype: datetime64[ns]"
      ]
     },
     "execution_count": 50,
     "metadata": {},
     "output_type": "execute_result"
    }
   ],
   "source": [
    "df.InvoiceDate = pd.to_datetime(df[\"InvoiceDate\"])\n",
    "\n",
    "df[\"InvoiceDate\"]"
   ]
  },
  {
   "cell_type": "code",
   "execution_count": 52,
   "id": "3c68acbb",
   "metadata": {},
   "outputs": [
    {
     "data": {
      "text/plain": [
       "0         2010\n",
       "1         2010\n",
       "2         2010\n",
       "3         2010\n",
       "4         2010\n",
       "          ... \n",
       "541904    2011\n",
       "541905    2011\n",
       "541906    2011\n",
       "541907    2011\n",
       "541908    2011\n",
       "Name: Year, Length: 530691, dtype: int32"
      ]
     },
     "execution_count": 52,
     "metadata": {},
     "output_type": "execute_result"
    }
   ],
   "source": [
    "df[\"Year\"] = pd.to_datetime(df.InvoiceDate).dt.year\n",
    "\n",
    "df.Year"
   ]
  },
  {
   "cell_type": "code",
   "execution_count": 54,
   "id": "29b682a7",
   "metadata": {},
   "outputs": [
    {
     "data": {
      "text/plain": [
       "Year\n",
       "2010     360431\n",
       "2011    5268001\n",
       "Name: Quantity, dtype: int64"
      ]
     },
     "execution_count": 54,
     "metadata": {},
     "output_type": "execute_result"
    }
   ],
   "source": [
    "total_quantity_per_year = df.groupby('Year')[\"Quantity\"].sum()\n",
    "total_quantity_per_year"
   ]
  },
  {
   "cell_type": "code",
   "execution_count": 56,
   "id": "7da70f2d",
   "metadata": {},
   "outputs": [
    {
     "data": {
      "text/plain": [
       "Year\n",
       "2010            NaN\n",
       "2011    1361.583771\n",
       "Name: Quantity, dtype: float64"
      ]
     },
     "execution_count": 56,
     "metadata": {},
     "output_type": "execute_result"
    }
   ],
   "source": [
    "pct_change_in_yr = total_quantity_per_year.pct_change()*100\n",
    "\n",
    "pct_change_in_yr"
   ]
  },
  {
   "cell_type": "code",
   "execution_count": 58,
   "id": "fd04703c",
   "metadata": {},
   "outputs": [
    {
     "data": {
      "text/plain": [
       "0         12\n",
       "1         12\n",
       "2         12\n",
       "3         12\n",
       "4         12\n",
       "          ..\n",
       "541904    12\n",
       "541905    12\n",
       "541906    12\n",
       "541907    12\n",
       "541908    12\n",
       "Name: Month, Length: 530691, dtype: int32"
      ]
     },
     "execution_count": 58,
     "metadata": {},
     "output_type": "execute_result"
    }
   ],
   "source": [
    "df[\"Month\"] = pd.to_datetime(df[\"InvoiceDate\"]).dt.month\n",
    "\n",
    "df[\"Month\"]"
   ]
  },
  {
   "cell_type": "code",
   "execution_count": 59,
   "id": "fbb76be2",
   "metadata": {},
   "outputs": [
    {
     "data": {
      "text/html": [
       "<div>\n",
       "<style scoped>\n",
       "    .dataframe tbody tr th:only-of-type {\n",
       "        vertical-align: middle;\n",
       "    }\n",
       "\n",
       "    .dataframe tbody tr th {\n",
       "        vertical-align: top;\n",
       "    }\n",
       "\n",
       "    .dataframe thead th {\n",
       "        text-align: right;\n",
       "    }\n",
       "</style>\n",
       "<table border=\"1\" class=\"dataframe\">\n",
       "  <thead>\n",
       "    <tr style=\"text-align: right;\">\n",
       "      <th></th>\n",
       "      <th>Final_Price</th>\n",
       "      <th>Quantity</th>\n",
       "    </tr>\n",
       "    <tr>\n",
       "      <th>Month</th>\n",
       "      <th></th>\n",
       "      <th></th>\n",
       "    </tr>\n",
       "  </thead>\n",
       "  <tbody>\n",
       "    <tr>\n",
       "      <th>1</th>\n",
       "      <td>691364.560</td>\n",
       "      <td>388052</td>\n",
       "    </tr>\n",
       "    <tr>\n",
       "      <th>2</th>\n",
       "      <td>523631.890</td>\n",
       "      <td>283662</td>\n",
       "    </tr>\n",
       "    <tr>\n",
       "      <th>3</th>\n",
       "      <td>717639.360</td>\n",
       "      <td>381085</td>\n",
       "    </tr>\n",
       "    <tr>\n",
       "      <th>4</th>\n",
       "      <td>537808.621</td>\n",
       "      <td>310280</td>\n",
       "    </tr>\n",
       "    <tr>\n",
       "      <th>5</th>\n",
       "      <td>770536.020</td>\n",
       "      <td>397838</td>\n",
       "    </tr>\n",
       "    <tr>\n",
       "      <th>6</th>\n",
       "      <td>761739.900</td>\n",
       "      <td>393526</td>\n",
       "    </tr>\n",
       "    <tr>\n",
       "      <th>7</th>\n",
       "      <td>719221.191</td>\n",
       "      <td>406005</td>\n",
       "    </tr>\n",
       "    <tr>\n",
       "      <th>8</th>\n",
       "      <td>759138.380</td>\n",
       "      <td>423078</td>\n",
       "    </tr>\n",
       "    <tr>\n",
       "      <th>9</th>\n",
       "      <td>1058590.172</td>\n",
       "      <td>572646</td>\n",
       "    </tr>\n",
       "    <tr>\n",
       "      <th>10</th>\n",
       "      <td>1154979.300</td>\n",
       "      <td>626917</td>\n",
       "    </tr>\n",
       "    <tr>\n",
       "      <th>11</th>\n",
       "      <td>1509496.330</td>\n",
       "      <td>769974</td>\n",
       "    </tr>\n",
       "    <tr>\n",
       "      <th>12</th>\n",
       "      <td>1462538.820</td>\n",
       "      <td>675369</td>\n",
       "    </tr>\n",
       "  </tbody>\n",
       "</table>\n",
       "</div>"
      ],
      "text/plain": [
       "       Final_Price  Quantity\n",
       "Month                       \n",
       "1       691364.560    388052\n",
       "2       523631.890    283662\n",
       "3       717639.360    381085\n",
       "4       537808.621    310280\n",
       "5       770536.020    397838\n",
       "6       761739.900    393526\n",
       "7       719221.191    406005\n",
       "8       759138.380    423078\n",
       "9      1058590.172    572646\n",
       "10     1154979.300    626917\n",
       "11     1509496.330    769974\n",
       "12     1462538.820    675369"
      ]
     },
     "execution_count": 59,
     "metadata": {},
     "output_type": "execute_result"
    }
   ],
   "source": [
    "df1 = df.pivot_table([\"Final_Price\", \"Quantity\"], index=\"Month\", aggfunc=\"sum\", sort=True)\n",
    "\n",
    "df1"
   ]
  },
  {
   "cell_type": "code",
   "execution_count": 65,
   "id": "77fc0c65",
   "metadata": {},
   "outputs": [
    {
     "data": {
      "image/png": "[encoded data removed]",
      "text/plain": [
       "<Figure size 640x480 with 1 Axes>"
      ]
     },
     "metadata": {},
     "output_type": "display_data"
    }
   ],
   "source": [
    "df1.plot(kind='bar',width=0.8)\n",
    "plt.xlabel('Month')\n",
    "plt.ylabel('Total Qty and revenue')\n",
    "plt.title('TOTAL QUANTITY AND REVENUE PER MONTH')\n",
    "plt.grid(True,alpha=0.2)\n",
    "plt.show()"
   ]
  }
 ],
 "metadata": {
  "kernelspec": {
   "display_name": ".venv",
   "language": "python",
   "name": "python3"
  },
  "language_info": {
   "codemirror_mode": {
    "name": "ipython",
    "version": 3
   },
   "file_extension": ".py",
   "mimetype": "text/x-python",
   "name": "python",
   "nbconvert_exporter": "python",
   "pygments_lexer": "ipython3",
   "version": "3.12.6"
  }
 },
 "nbformat": 4,
 "nbformat_minor": 5
}
